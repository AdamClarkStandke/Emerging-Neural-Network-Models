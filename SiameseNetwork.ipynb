{
  "nbformat": 4,
  "nbformat_minor": 0,
  "metadata": {
    "colab": {
      "provenance": [],
      "authorship_tag": "ABX9TyM28KJl+7xfOu9L8Ew3jyIz",
      "include_colab_link": true
    },
    "kernelspec": {
      "name": "python3",
      "display_name": "Python 3"
    },
    "language_info": {
      "name": "python"
    }
  },
  "cells": [
    {
      "cell_type": "markdown",
      "metadata": {
        "id": "view-in-github",
        "colab_type": "text"
      },
      "source": [
        "<a href=\"https://colab.research.google.com/github/AdamClarkStandke/Emerging-Neural-Network-Models/blob/main/SiameseNetwork.ipynb\" target=\"_parent\"><img src=\"https://colab.research.google.com/assets/colab-badge.svg\" alt=\"Open In Colab\"/></a>"
      ]
    },
    {
      "cell_type": "markdown",
      "source": [
        "# Meta Learning: Siamese Networks\n",
        "\n",
        "Siamese Networks are a form of Meta Learning and is considered to be an emerging neural netwok design, similar to transfer leaning but differnt. As the author of the book titled [Advanced Deep Learning with Python](https://www.amazon.com/Advanced-Deep-Learning-Python-next-generation/dp/178995617X) details:\n",
        "\n",
        "> Meta Learning, also referred to as learning to learn, allows machine learning (ML) algorithms to leverage and channel knowledge, gained over multiple training tasks, to improve its training efficiency over a new task...[this form of learning] has the ability to train with fewer samples...[allowing] for reduced training time and good perfromance when there is not enough traning data.\n",
        "\n",
        "Siamese networks were proposed in the paper [Siamese Neural Netowrks for One shot Image Reconation](https://www.cs.cmu.edu/~rsalakhu/papers/oneshot1.pdf). As the authors of the paper detail:\n",
        "\n",
        "> In this paper, we explore a method for learning siamese neural networks which employ a unique structure to naturally rank similarity between inputs. Once a network has been tuned, we can then capitalize on powerful discriminative features to generalize the predictive power of the network not just to new data, but to entirely new classes from unknown distributions.\n",
        "\n",
        "\n",
        "\n",
        "---\n",
        "\n",
        "\n",
        "\n",
        "\n",
        "\n",
        "\n"
      ],
      "metadata": {
        "id": "SBar-b8yP6f2"
      }
    },
    {
      "cell_type": "markdown",
      "source": [
        "## Implementation of Siamese Networks\n",
        "\n",
        "I will be implementing the Siamese Network as detailed in the book [Advanced Deep Learning with Python](https://www.amazon.com/Advanced-Deep-Learning-Python-next-generation/dp/178995617X).\n",
        "\n"
      ],
      "metadata": {
        "id": "-lUKCkVpVs7y"
      }
    },
    {
      "cell_type": "code",
      "execution_count": null,
      "metadata": {
        "id": "5M0ydWoCPtEA"
      },
      "outputs": [],
      "source": []
    }
  ]
}